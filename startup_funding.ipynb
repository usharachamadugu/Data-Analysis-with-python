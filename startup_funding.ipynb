{
  "nbformat": 4,
  "nbformat_minor": 0,
  "metadata": {
    "colab": {
      "name": "startup_funding.ipynb",
      "provenance": [],
      "collapsed_sections": [],
      "authorship_tag": "ABX9TyPR5DYb7QH6f7eA7kZNev41",
      "include_colab_link": true
    },
    "kernelspec": {
      "name": "python3",
      "display_name": "Python 3"
    }
  },
  "cells": [
    {
      "cell_type": "markdown",
      "metadata": {
        "id": "view-in-github",
        "colab_type": "text"
      },
      "source": [
        "<a href=\"https://colab.research.google.com/github/usharachamadugu/Data-Analysis-with-python/blob/master/startup_funding.ipynb\" target=\"_parent\"><img src=\"https://colab.research.google.com/assets/colab-badge.svg\" alt=\"Open In Colab\"/></a>"
      ]
    },
    {
      "cell_type": "markdown",
      "metadata": {
        "id": "2u6BHyN-p5Ta",
        "colab_type": "text"
      },
      "source": [
        "#                    #**Top Funding Indian Startups** \n",
        "\n"
      ]
    },
    {
      "cell_type": "markdown",
      "metadata": {
        "id": "EKX788I1TQBS",
        "colab_type": "text"
      },
      "source": [
        "![alt text](data:image/jpeg;base64,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)"
      ]
    },
    {
      "cell_type": "markdown",
      "metadata": {
        "id": "jVGeNxzz9cEQ",
        "colab_type": "text"
      },
      "source": [
        "This notebook explores the analysis of indian startup funding and basically gives answer of following questions :-\n",
        "\n",
        "1) How does the funding ecosystem change with time ?(Number of funding per month)\n",
        "\n",
        "2) How much funds does startups generally get in India ?(maximum funding, minimum funding , average funding and number of fundings)\n",
        "\n",
        "3) Which industries are favored by investors for funding ? (OR) Which type of companies got more easily funding ?\n",
        "\n",
        "4) Do cities play a major role in funding ? (OR) Which city has maximum startups ?\n",
        "\n",
        "5)Who is the important investors in the Indian Ecosystem?\n",
        "What are different types of funding for startups ?"
      ]
    },
    {
      "cell_type": "code",
      "metadata": {
        "id": "nHex-VkIoTCl",
        "colab_type": "code",
        "outputId": "41c2592b-1bc3-42aa-d327-d874ce56fee1",
        "colab": {
          "resources": {
            "http://localhost:8080/nbextensions/google.colab/files.js": {
              "data": "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",
              "ok": true,
              "headers": [
                [
                  "content-type",
                  "application/javascript"
                ]
              ],
              "status": 200,
              "status_text": ""
            }
          },
          "base_uri": "https://localhost:8080/",
          "height": 41
        }
      },
      "source": [
        "from google.colab import files\n",
        "uploaded = files.upload()"
      ],
      "execution_count": 0,
      "outputs": [
        {
          "output_type": "display_data",
          "data": {
            "text/html": [
              "\n",
              "     <input type=\"file\" id=\"files-906486e5-aa3f-4d37-a93e-094d4accc3ce\" name=\"files[]\" multiple disabled />\n",
              "     <output id=\"result-906486e5-aa3f-4d37-a93e-094d4accc3ce\">\n",
              "      Upload widget is only available when the cell has been executed in the\n",
              "      current browser session. Please rerun this cell to enable.\n",
              "      </output>\n",
              "      <script src=\"/nbextensions/google.colab/files.js\"></script> "
            ],
            "text/plain": [
              "<IPython.core.display.HTML object>"
            ]
          },
          "metadata": {
            "tags": []
          }
        }
      ]
    },
    {
      "cell_type": "code",
      "metadata": {
        "id": "4843vdmjofrr",
        "colab_type": "code",
        "colab": {}
      },
      "source": [
        "import pandas as pd\n",
        "import io\n",
        "df2 = pd.read_csv(io.BytesIO(uploaded['startup_funding.csv']))"
      ],
      "execution_count": 0,
      "outputs": []
    },
    {
      "cell_type": "code",
      "metadata": {
        "id": "rl7dUvNiABQW",
        "colab_type": "code",
        "colab": {}
      },
      "source": [
        "import numpy as np # linear algebra\n",
        "import pandas as pd # data processing, CSV file I/O (e.g. pd.read_csv)\n",
        "import matplotlib.pyplot as plt # Visualization\n",
        "import seaborn as sns\n",
        "color = sns.color_palette()\n",
        "\n",
        "\n",
        "import plotly.offline as py\n",
        "py.init_notebook_mode(connected=True)\n",
        "import plotly.graph_objs as go\n",
        "%matplotlib inline\n",
        "pd.options.mode.chained_assignment = None\n",
        "#pd.options.display.max_columns = 999"
      ],
      "execution_count": 0,
      "outputs": []
    },
    {
      "cell_type": "code",
      "metadata": {
        "id": "eYrgtLIiAfQK",
        "colab_type": "code",
        "colab": {}
      },
      "source": [
        "df2.head()#returns top 5 rows"
      ],
      "execution_count": 0,
      "outputs": []
    },
    {
      "cell_type": "code",
      "metadata": {
        "id": "DKb69ngbBhK7",
        "colab_type": "code",
        "colab": {}
      },
      "source": [
        "df2.columns# returns columns names"
      ],
      "execution_count": 0,
      "outputs": []
    },
    {
      "cell_type": "code",
      "metadata": {
        "id": "yBRuiGYPB0w3",
        "colab_type": "code",
        "colab": {}
      },
      "source": [
        "print(\"Size of data(Rows, Columns)\",df2.shape)# returns no of rows and columns"
      ],
      "execution_count": 0,
      "outputs": []
    },
    {
      "cell_type": "code",
      "metadata": {
        "id": "wQfuUZxTCCX8",
        "colab_type": "code",
        "colab": {}
      },
      "source": [
        "# missing data \n",
        "total = df2.isnull().sum().sort_values(ascending = False)\n",
        "percent = ((df2.isnull().sum()/df2.isnull().count())*100).sort_values(ascending = False)\n",
        "missing_data = pd.concat([total, percent], axis=1, keys=['Total', 'Percent %'])\n",
        "missing_data.head()"
      ],
      "execution_count": 0,
      "outputs": []
    },
    {
      "cell_type": "code",
      "metadata": {
        "id": "bsEIfUeeCd27",
        "colab_type": "code",
        "colab": {}
      },
      "source": [
        "del df2[\"Remarks\"]\n",
        "df2.head()"
      ],
      "execution_count": 0,
      "outputs": []
    },
    {
      "cell_type": "code",
      "metadata": {
        "id": "Ne29YUxFCsN9",
        "colab_type": "code",
        "colab": {}
      },
      "source": [
        "df2[\"AmountInUSD\"] = df2[\"AmountInUSD\"].apply(lambda x: float(str(x).replace(\",\",\"\")))#Now convert the string \"AmountInUSD\" into numeric\n",
        "df2[\"AmountInUSD\"] = pd.to_numeric(df2[\"AmountInUSD\"])\n",
        "df2.head()\n"
      ],
      "execution_count": 0,
      "outputs": []
    },
    {
      "cell_type": "code",
      "metadata": {
        "id": "CxjdtKhbC6FC",
        "colab_type": "code",
        "colab": {}
      },
      "source": [
        "### Some more fixes in the data format. Will try to fix in the input file in next version #\n",
        "df2['Date'][df2['Date']=='12/05.2015'] = '12/05/2015'\n",
        "df2['Date'][df2['Date']=='13/04.2015'] = '13/04/2015'\n",
        "df2['Date'][df2['Date']=='15/01.2015'] = '15/01/2015'\n",
        "df2['Date'][df2['Date']=='22/01//2015'] = '22/01/2015'\n",
        "df2[\"yearmonth\"] = (pd.to_datetime(df2['Date'],format='%d/%m/%Y').dt.year*100)+(pd.to_datetime(df2['Date'],format='%d/%m/%Y').dt.month)\n",
        "temp = df2['yearmonth'].value_counts().sort_values(ascending = False).head(10)\n",
        "print(\"Number of funding per month in decreasing order(Top 10)\\n\",temp)\n",
        "year_month = df2['yearmonth'].value_counts()\n",
        "plt.figure(figsize=(15,8))\n",
        "sns.barplot(year_month.index, year_month.values, alpha=0.9, color=color[0])\n",
        "plt.xticks(rotation='vertical')\n",
        "plt.xlabel('Year-Month of transaction', fontsize=12)\n",
        "plt.ylabel('Number of fundings made', fontsize=12)\n",
        "plt.title(\"Year-Month Distribution\", fontsize=16)\n",
        "plt.show()"
      ],
      "execution_count": 0,
      "outputs": []
    },
    {
      "cell_type": "markdown",
      "metadata": {
        "id": "tcyM9xtpKTLz",
        "colab_type": "text"
      },
      "source": [
        "Ques 2 : How much funds does startups generally get in India ?(maximum funding, minimum funding , average funding and number of fundings)"
      ]
    },
    {
      "cell_type": "code",
      "metadata": {
        "id": "5Ur5WAI9DYDS",
        "colab_type": "code",
        "colab": {}
      },
      "source": [
        "print(\"Maximum funding to a Startups is : \",df2[\"AmountInUSD\"].dropna().sort_values().max())"
      ],
      "execution_count": 0,
      "outputs": []
    },
    {
      "cell_type": "code",
      "metadata": {
        "id": "W2C1BtixDjYd",
        "colab_type": "code",
        "colab": {}
      },
      "source": [
        "df2[df2.AmountInUSD == 1400000000.0]"
      ],
      "execution_count": 0,
      "outputs": []
    },
    {
      "cell_type": "code",
      "metadata": {
        "id": "LGho-zCGDofN",
        "colab_type": "code",
        "colab": {}
      },
      "source": [
        "df2[df2.StartupName == 'Paytm']"
      ],
      "execution_count": 0,
      "outputs": []
    },
    {
      "cell_type": "markdown",
      "metadata": {
        "id": "fC02kCVZKh-H",
        "colab_type": "text"
      },
      "source": [
        "As we can see Paytm and Flipkart got maximum funding of 1400000000 USD. Now lats see least funding."
      ]
    },
    {
      "cell_type": "code",
      "metadata": {
        "id": "r3yQm6ItDshN",
        "colab_type": "code",
        "colab": {}
      },
      "source": [
        "print(\"Minimum funding to a Startups is : \",df2[\"AmountInUSD\"].dropna().sort_values().min())"
      ],
      "execution_count": 0,
      "outputs": []
    },
    {
      "cell_type": "code",
      "metadata": {
        "id": "5cNAdmA9DwBT",
        "colab_type": "code",
        "colab": {}
      },
      "source": [
        "df2[df2.AmountInUSD == 16000.0]"
      ],
      "execution_count": 0,
      "outputs": []
    },
    {
      "cell_type": "markdown",
      "metadata": {
        "id": "cQEd2gdeKrIj",
        "colab_type": "text"
      },
      "source": [
        "Now as we can see Hostel Dunia, Play your sport, Yo Grad, Enabli and CBS are least funded Startups i.e, 16000 USD"
      ]
    },
    {
      "cell_type": "code",
      "metadata": {
        "id": "ezCn14KTD1uw",
        "colab_type": "code",
        "colab": {}
      },
      "source": [
        "print(\"On Average indian startups got funding of : \",df2[\"AmountInUSD\"].dropna().sort_values().mean())"
      ],
      "execution_count": 0,
      "outputs": []
    },
    {
      "cell_type": "code",
      "metadata": {
        "id": "tIY9uKMtD6xx",
        "colab_type": "code",
        "colab": {}
      },
      "source": [
        "print(\"Total startups funded : \", len(df2[\"StartupName\"].unique()))\n",
        "print(df2[\"StartupName\"].value_counts().head(10))\n",
        "startupname = df2['StartupName'].value_counts().head(20)\n",
        "plt.figure(figsize=(15,8))\n",
        "sns.barplot(startupname.index, startupname.values, alpha=0.9, color=color[0])\n",
        "plt.xticks(rotation='vertical')\n",
        "plt.xlabel('Startup Name', fontsize=12)\n",
        "plt.ylabel('Number of fundings made', fontsize=12)\n",
        "plt.title(\"Number of funding a startup got\", fontsize=16)\n",
        "plt.show()"
      ],
      "execution_count": 0,
      "outputs": []
    },
    {
      "cell_type": "markdown",
      "metadata": {
        "id": "T51LZb3jK6_b",
        "colab_type": "text"
      },
      "source": [
        "Ques 3 : Which industries are favored by investors for funding ? (OR) Which type of companies got more easily funding ?"
      ]
    },
    {
      "cell_type": "code",
      "metadata": {
        "id": "mz_DxKlNEOlx",
        "colab_type": "code",
        "colab": {}
      },
      "source": [
        "industry = df2['IndustryVertical'].value_counts().head(10)\n",
        "print(industry)\n",
        "plt.figure(figsize=(15,8))\n",
        "sns.barplot(industry.index, industry.values, alpha=0.9, color=color[0])\n",
        "plt.xticks(rotation='vertical')\n",
        "plt.xlabel('Industry vertical of startups', fontsize=12)\n",
        "plt.ylabel('Number of fundings made', fontsize=12)\n",
        "plt.title(\"Industry vertical of startups with number of funding\", fontsize=16)\n",
        "plt.show()"
      ],
      "execution_count": 0,
      "outputs": []
    },
    {
      "cell_type": "markdown",
      "metadata": {
        "id": "shqBBFhbLYh-",
        "colab_type": "text"
      },
      "source": [
        "Ques 4 : Do cities play a major role in funding ? (OR) Which city has maximum startups ?"
      ]
    },
    {
      "cell_type": "code",
      "metadata": {
        "id": "KNPyoyf5ETsG",
        "colab_type": "code",
        "colab": {}
      },
      "source": [
        "industry = df2['SubVertical'].value_counts().head(10)\n",
        "print(industry)\n",
        "plt.figure(figsize=(15,8))\n",
        "sns.barplot(industry.index, industry.values, alpha=0.9, color=color[0])\n",
        "plt.xticks(rotation='vertical')\n",
        "plt.xlabel('Subvertical of startups', fontsize=12)\n",
        "plt.ylabel('Number of fundings made', fontsize=12)\n",
        "plt.title(\"Subvertical of startups with number of funding\", fontsize=16)\n",
        "plt.show()"
      ],
      "execution_count": 0,
      "outputs": []
    },
    {
      "cell_type": "code",
      "metadata": {
        "id": "pXixzD30EXkL",
        "colab_type": "code",
        "colab": {}
      },
      "source": [
        "city = df2['CityLocation'].value_counts().head(10)\n",
        "print(city)\n",
        "plt.figure(figsize=(15,8))\n",
        "sns.barplot(city.index, city.values, alpha=0.9, color=color[0])\n",
        "plt.xticks(rotation='vertical')\n",
        "plt.xlabel('city location of startups', fontsize=12)\n",
        "plt.ylabel('Number of fundings made', fontsize=12)\n",
        "plt.title(\"city location of startups with number of funding\", fontsize=16)\n",
        "plt.show()"
      ],
      "execution_count": 0,
      "outputs": []
    },
    {
      "cell_type": "markdown",
      "metadata": {
        "id": "v_VAuc-jLmEw",
        "colab_type": "text"
      },
      "source": [
        "Ques 5 : Who is the important investors in the Indian Ecosystem?"
      ]
    },
    {
      "cell_type": "code",
      "metadata": {
        "id": "oOdjh-pnEgNe",
        "colab_type": "code",
        "colab": {}
      },
      "source": [
        "from wordcloud import WordCloud\n",
        "\n",
        "names = df2[\"InvestorsName\"][~pd.isnull(df2[\"InvestorsName\"])]\n",
        "#print(names)\n",
        "wordcloud = WordCloud(max_font_size=50, width=600, height=300).generate(' '.join(names))\n",
        "plt.figure(figsize=(15,8))\n",
        "plt.imshow(wordcloud)\n",
        "plt.title(\"Wordcloud for Investor Names\", fontsize=35)\n",
        "plt.axis(\"off\")\n",
        "plt.show()"
      ],
      "execution_count": 0,
      "outputs": []
    },
    {
      "cell_type": "code",
      "metadata": {
        "id": "8dZqSfINny3Y",
        "colab_type": "code",
        "colab": {}
      },
      "source": [
        "investors = df2['InvestorsName'].value_counts().head(10)\n",
        "print(investors)\n",
        "plt.figure(figsize=(15,8))\n",
        "sns.barplot(investors.index, investors.values, alpha=0.9, color=color[0])\n",
        "plt.xticks(rotation='vertical')\n",
        "plt.xlabel('Investors Names', fontsize=12)\n",
        "plt.ylabel('Number of fundings made', fontsize=12)\n",
        "plt.title(\"Investors Names with number of funding\", fontsize=16)\n",
        "plt.show()"
      ],
      "execution_count": 0,
      "outputs": []
    },
    {
      "cell_type": "markdown",
      "metadata": {
        "id": "RWw-LoDNL6JP",
        "colab_type": "text"
      },
      "source": [
        "Ques 6 : What are different types of funding for startups ?"
      ]
    },
    {
      "cell_type": "code",
      "metadata": {
        "id": "z1PNKSE2n_Ab",
        "colab_type": "code",
        "colab": {}
      },
      "source": [
        "investment = df2['InvestmentType'].value_counts()\n",
        "print(investment)"
      ],
      "execution_count": 0,
      "outputs": []
    }
  ]
}